{
  "nbformat": 4,
  "nbformat_minor": 0,
  "metadata": {
    "colab": {
      "name": "00_tensorflow fundamentals",
      "provenance": [],
      "collapsed_sections": [],
      "authorship_tag": "ABX9TyN4lgZd6fEITmtrSTaQH7Zd",
      "include_colab_link": true
    },
    "kernelspec": {
      "name": "python3",
      "display_name": "Python 3"
    },
    "language_info": {
      "name": "python"
    }
  },
  "cells": [
    {
      "cell_type": "markdown",
      "metadata": {
        "id": "view-in-github",
        "colab_type": "text"
      },
      "source": [
        "<a href=\"https://colab.research.google.com/github/notjayasurya/DeepLearning/blob/main/00_tensorflow_fundamentals.ipynb\" target=\"_parent\"><img src=\"https://colab.research.google.com/assets/colab-badge.svg\" alt=\"Open In Colab\"/></a>"
      ]
    },
    {
      "cell_type": "markdown",
      "metadata": {
        "id": "J5uADSiM0rHd"
      },
      "source": [
        "# **Fundamental concepts of tensors**"
      ]
    },
    {
      "cell_type": "code",
      "metadata": {
        "colab": {
          "base_uri": "https://localhost:8080/"
        },
        "id": "RWaKyaF30jU5",
        "outputId": "e7fff099-4f34-4375-b86c-2663b1e99243"
      },
      "source": [
        "import tensorflow as tf\n",
        "\n",
        "import numpy as np\n",
        "print(tf.__version__)"
      ],
      "execution_count": 25,
      "outputs": [
        {
          "output_type": "stream",
          "text": [
            "2.5.0\n"
          ],
          "name": "stdout"
        }
      ]
    },
    {
      "cell_type": "code",
      "metadata": {
        "colab": {
          "base_uri": "https://localhost:8080/"
        },
        "id": "wUIn_WyO1LQi",
        "outputId": "79ee39c4-5a18-40db-de05-6a5012f5cc0f"
      },
      "source": [
        "# creating tensors with tf.constant()\n",
        "scalar = tf.constant(7)\n",
        "scalar"
      ],
      "execution_count": null,
      "outputs": [
        {
          "output_type": "execute_result",
          "data": {
            "text/plain": [
              "<tf.Tensor: shape=(), dtype=int32, numpy=7>"
            ]
          },
          "metadata": {
            "tags": []
          },
          "execution_count": 4
        }
      ]
    },
    {
      "cell_type": "code",
      "metadata": {
        "colab": {
          "base_uri": "https://localhost:8080/"
        },
        "id": "UM0lCK731lBA",
        "outputId": "18d90396-abb7-4d02-83f2-08a9a8dc1f46"
      },
      "source": [
        "#Checking the no of dimensions of a tensor\n",
        "scalar.ndim"
      ],
      "execution_count": null,
      "outputs": [
        {
          "output_type": "execute_result",
          "data": {
            "text/plain": [
              "0"
            ]
          },
          "metadata": {
            "tags": []
          },
          "execution_count": 6
        }
      ]
    },
    {
      "cell_type": "code",
      "metadata": {
        "colab": {
          "base_uri": "https://localhost:8080/"
        },
        "id": "HqTV2xLQ16LO",
        "outputId": "cafd4a9f-37ce-4875-a94e-a8ee73593b09"
      },
      "source": [
        "vector = tf.constant([10,10])\n",
        "vector"
      ],
      "execution_count": null,
      "outputs": [
        {
          "output_type": "execute_result",
          "data": {
            "text/plain": [
              "<tf.Tensor: shape=(2,), dtype=int32, numpy=array([10, 10], dtype=int32)>"
            ]
          },
          "metadata": {
            "tags": []
          },
          "execution_count": 7
        }
      ]
    },
    {
      "cell_type": "code",
      "metadata": {
        "colab": {
          "base_uri": "https://localhost:8080/"
        },
        "id": "YEiy9hay2CFi",
        "outputId": "88f37044-1a59-488c-901b-c22acfd813a2"
      },
      "source": [
        "vector.ndim"
      ],
      "execution_count": null,
      "outputs": [
        {
          "output_type": "execute_result",
          "data": {
            "text/plain": [
              "1"
            ]
          },
          "metadata": {
            "tags": []
          },
          "execution_count": 8
        }
      ]
    },
    {
      "cell_type": "code",
      "metadata": {
        "colab": {
          "base_uri": "https://localhost:8080/"
        },
        "id": "tKQRNuRD2GE_",
        "outputId": "ac8fd175-6977-48a5-867e-b7df1700cea4"
      },
      "source": [
        "matrix = tf.constant([[24,48],[18,7]])\n",
        "print(matrix)\n",
        "print(matrix.ndim)"
      ],
      "execution_count": null,
      "outputs": [
        {
          "output_type": "stream",
          "text": [
            "tf.Tensor(\n",
            "[[24 48]\n",
            " [18  7]], shape=(2, 2), dtype=int32)\n",
            "2\n"
          ],
          "name": "stdout"
        }
      ]
    },
    {
      "cell_type": "code",
      "metadata": {
        "colab": {
          "base_uri": "https://localhost:8080/"
        },
        "id": "XfSi7RV72eI2",
        "outputId": "a8c05c87-10bd-498a-c2d2-94ee952f1244"
      },
      "source": [
        "#Creating another matrix\n",
        "another_matrix = tf.constant([[10.,8.],\n",
        "                             [1.,9.],\n",
        "                             [10.,24.]],dtype=tf.float64)\n",
        "print(another_matrix)\n",
        "print(another_matrix.ndim)"
      ],
      "execution_count": null,
      "outputs": [
        {
          "output_type": "stream",
          "text": [
            "tf.Tensor(\n",
            "[[10.  8.]\n",
            " [ 1.  9.]\n",
            " [10. 24.]], shape=(3, 2), dtype=float64)\n",
            "2\n"
          ],
          "name": "stdout"
        }
      ]
    },
    {
      "cell_type": "markdown",
      "metadata": {
        "id": "PpWOVqfV4mlE"
      },
      "source": [
        "What we've created so far:\n",
        "Scalar : a single number\n",
        "vector : number with direction\n",
        "matrix: a 2d array of numbers\n",
        "Tensors : An n dim array of numbers .\n"
      ]
    },
    {
      "cell_type": "markdown",
      "metadata": {
        "id": "s55Y4nVM3CGt"
      },
      "source": [
        "### Creating tensors with 'tf.Variable'"
      ]
    },
    {
      "cell_type": "code",
      "metadata": {
        "colab": {
          "base_uri": "https://localhost:8080/"
        },
        "id": "B8yFRNxV5J-Q",
        "outputId": "39802415-ae8b-4959-c2e1-64db2f0eea1e"
      },
      "source": [
        "changeable_tensor = tf.Variable([10,7])\n",
        "unchangable_tensor = tf.constant([10,7])\n",
        "changeable_tensor,unchangable_tensor"
      ],
      "execution_count": null,
      "outputs": [
        {
          "output_type": "execute_result",
          "data": {
            "text/plain": [
              "(<tf.Variable 'Variable:0' shape=(2,) dtype=int32, numpy=array([10,  7], dtype=int32)>,\n",
              " <tf.Tensor: shape=(2,), dtype=int32, numpy=array([10,  7], dtype=int32)>)"
            ]
          },
          "metadata": {
            "tags": []
          },
          "execution_count": 24
        }
      ]
    },
    {
      "cell_type": "code",
      "metadata": {
        "colab": {
          "base_uri": "https://localhost:8080/"
        },
        "id": "qSs-hMTG5w4f",
        "outputId": "841af12e-b556-4d03-daf4-4bc819e6e598"
      },
      "source": [
        "changable_tensor[0].assign(18)\n",
        "changable_tensor"
      ],
      "execution_count": null,
      "outputs": [
        {
          "output_type": "execute_result",
          "data": {
            "text/plain": [
              "<tf.Variable 'Variable:0' shape=(2,) dtype=int32, numpy=array([18,  7], dtype=int32)>"
            ]
          },
          "metadata": {
            "tags": []
          },
          "execution_count": 26
        }
      ]
    },
    {
      "cell_type": "code",
      "metadata": {
        "id": "H8giuTqX6CEx"
      },
      "source": [
        "# Creating Random tensors : Playback = 1:22:42"
      ],
      "execution_count": null,
      "outputs": []
    },
    {
      "cell_type": "code",
      "metadata": {
        "colab": {
          "base_uri": "https://localhost:8080/"
        },
        "id": "o7uEV6HTl4bu",
        "outputId": "70cf2bc6-aa62-4f33-b03c-7384ee6361d6"
      },
      "source": [
        "random_1 = tf.random.Generator.from_seed(36)\n",
        "random_1 = random_1.normal(shape=(2,4))\n",
        "\n",
        "random_2 = tf.random.Generator.from_seed(36)\n",
        "random_2 = random_2.normal(shape = (2,4))\n",
        "\n",
        "random_1,random_2, random_1 == random_2\n"
      ],
      "execution_count": 10,
      "outputs": [
        {
          "output_type": "execute_result",
          "data": {
            "text/plain": [
              "(<tf.Tensor: shape=(2, 4), dtype=float32, numpy=\n",
              " array([[-0.645002  ,  0.18022095, -0.14656258,  0.34374258],\n",
              "        [ 0.41367555,  0.17573498, -1.0871261 ,  0.45905176]],\n",
              "       dtype=float32)>, <tf.Tensor: shape=(2, 4), dtype=float32, numpy=\n",
              " array([[-0.645002  ,  0.18022095, -0.14656258,  0.34374258],\n",
              "        [ 0.41367555,  0.17573498, -1.0871261 ,  0.45905176]],\n",
              "       dtype=float32)>, <tf.Tensor: shape=(2, 4), dtype=bool, numpy=\n",
              " array([[ True,  True,  True,  True],\n",
              "        [ True,  True,  True,  True]])>)"
            ]
          },
          "metadata": {
            "tags": []
          },
          "execution_count": 10
        }
      ]
    },
    {
      "cell_type": "code",
      "metadata": {
        "id": "zXVOVC5anGy-"
      },
      "source": [
        "# Shuffling the order of tensors (valuable for shuffling the data)"
      ],
      "execution_count": 11,
      "outputs": []
    },
    {
      "cell_type": "code",
      "metadata": {
        "colab": {
          "base_uri": "https://localhost:8080/"
        },
        "id": "AyqAO2wJonpE",
        "outputId": "7613eec7-8cde-44dc-fc89-46391689ab45"
      },
      "source": [
        "not_shuffled = tf.constant([[10,7],\n",
        "                            [24,7],\n",
        "                           [18,45]],dtype=tf.int64)\n",
        "print(not_shuffled.ndim)\n",
        "not_shuffled"
      ],
      "execution_count": 19,
      "outputs": [
        {
          "output_type": "stream",
          "text": [
            "2\n"
          ],
          "name": "stdout"
        },
        {
          "output_type": "execute_result",
          "data": {
            "text/plain": [
              "<tf.Tensor: shape=(3, 2), dtype=int64, numpy=\n",
              "array([[10,  7],\n",
              "       [24,  7],\n",
              "       [18, 45]])>"
            ]
          },
          "metadata": {
            "tags": []
          },
          "execution_count": 19
        }
      ]
    },
    {
      "cell_type": "code",
      "metadata": {
        "colab": {
          "base_uri": "https://localhost:8080/"
        },
        "id": "psbEPZ8DpN0-",
        "outputId": "b75b05e2-a1af-47db-ad8b-31e73f1bda2d"
      },
      "source": [
        "tf.random.shuffle(not_shuffled)"
      ],
      "execution_count": 21,
      "outputs": [
        {
          "output_type": "execute_result",
          "data": {
            "text/plain": [
              "<tf.Tensor: shape=(3, 2), dtype=int64, numpy=\n",
              "array([[18, 45],\n",
              "       [10,  7],\n",
              "       [24,  7]])>"
            ]
          },
          "metadata": {
            "tags": []
          },
          "execution_count": 21
        }
      ]
    },
    {
      "cell_type": "code",
      "metadata": {
        "colab": {
          "base_uri": "https://localhost:8080/"
        },
        "id": "75d8j3KPpLTA",
        "outputId": "2999a748-e750-4937-b3a8-94c189d1213e"
      },
      "source": [
        "tf.ones([4,8], dtype=tf.int32)"
      ],
      "execution_count": 24,
      "outputs": [
        {
          "output_type": "execute_result",
          "data": {
            "text/plain": [
              "<tf.Tensor: shape=(4, 8), dtype=int32, numpy=\n",
              "array([[1, 1, 1, 1, 1, 1, 1, 1],\n",
              "       [1, 1, 1, 1, 1, 1, 1, 1],\n",
              "       [1, 1, 1, 1, 1, 1, 1, 1],\n",
              "       [1, 1, 1, 1, 1, 1, 1, 1]], dtype=int32)>"
            ]
          },
          "metadata": {
            "tags": []
          },
          "execution_count": 24
        }
      ]
    },
    {
      "cell_type": "code",
      "metadata": {
        "id": "Fprnmny_6Z88",
        "colab": {
          "base_uri": "https://localhost:8080/"
        },
        "outputId": "c4e8bfc9-d09c-4cef-f908-20a189db51c9"
      },
      "source": [
        "#Converting numpy arrays into tensors\n",
        "\n",
        "numpy_array = np.random.randint(10,50,20)\n",
        "numpy_array\n"
      ],
      "execution_count": 26,
      "outputs": [
        {
          "output_type": "execute_result",
          "data": {
            "text/plain": [
              "array([29, 13, 45, 22, 48, 36, 28, 32, 39, 46, 47, 19, 28, 43, 24, 10, 19,\n",
              "       36, 16, 42])"
            ]
          },
          "metadata": {
            "tags": []
          },
          "execution_count": 26
        }
      ]
    },
    {
      "cell_type": "code",
      "metadata": {
        "id": "uXFiIIdz544x",
        "colab": {
          "base_uri": "https://localhost:8080/"
        },
        "outputId": "a77e3e6e-eb4c-4cc9-82ee-403d36fb743b"
      },
      "source": [
        "A = tf.constant(numpy_array,shape =(5,4))\n",
        "A"
      ],
      "execution_count": 32,
      "outputs": [
        {
          "output_type": "execute_result",
          "data": {
            "text/plain": [
              "<tf.Tensor: shape=(5, 4), dtype=int64, numpy=\n",
              "array([[29, 13, 45, 22],\n",
              "       [48, 36, 28, 32],\n",
              "       [39, 46, 47, 19],\n",
              "       [28, 43, 24, 10],\n",
              "       [19, 36, 16, 42]])>"
            ]
          },
          "metadata": {
            "tags": []
          },
          "execution_count": 32
        }
      ]
    },
    {
      "cell_type": "code",
      "metadata": {
        "id": "p8vtWhBw5v0p"
      },
      "source": [
        "1:54:00"
      ],
      "execution_count": null,
      "outputs": []
    },
    {
      "cell_type": "code",
      "metadata": {
        "id": "sf2zAL5S5tFd"
      },
      "source": [
        ""
      ],
      "execution_count": null,
      "outputs": []
    },
    {
      "cell_type": "code",
      "metadata": {
        "id": "Pk5yyvcN5Eyf"
      },
      "source": [
        ""
      ],
      "execution_count": null,
      "outputs": []
    },
    {
      "cell_type": "code",
      "metadata": {
        "id": "oikBvs2Q2TVr"
      },
      "source": [
        ""
      ],
      "execution_count": null,
      "outputs": []
    },
    {
      "cell_type": "code",
      "metadata": {
        "id": "vRM9SlbD14sj"
      },
      "source": [
        ""
      ],
      "execution_count": null,
      "outputs": []
    },
    {
      "cell_type": "code",
      "metadata": {
        "id": "GJ09cnDD04MF"
      },
      "source": [
        ""
      ],
      "execution_count": null,
      "outputs": []
    },
    {
      "cell_type": "code",
      "metadata": {
        "id": "-y8_OgZP1Hd6"
      },
      "source": [
        ""
      ],
      "execution_count": null,
      "outputs": []
    }
  ]
}