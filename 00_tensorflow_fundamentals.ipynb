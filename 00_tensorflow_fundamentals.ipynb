{
  "nbformat": 4,
  "nbformat_minor": 0,
  "metadata": {
    "colab": {
      "name": "00_tensorflow fundamentals",
      "provenance": [],
      "collapsed_sections": [],
      "authorship_tag": "ABX9TyNaBxVW5rKHesiSO1IHJtkG",
      "include_colab_link": true
    },
    "kernelspec": {
      "name": "python3",
      "display_name": "Python 3"
    },
    "language_info": {
      "name": "python"
    }
  },
  "cells": [
    {
      "cell_type": "markdown",
      "metadata": {
        "id": "view-in-github",
        "colab_type": "text"
      },
      "source": [
        "<a href=\"https://colab.research.google.com/github/notjayasurya/DeepLearning/blob/main/00_tensorflow_fundamentals.ipynb\" target=\"_parent\"><img src=\"https://colab.research.google.com/assets/colab-badge.svg\" alt=\"Open In Colab\"/></a>"
      ]
    },
    {
      "cell_type": "markdown",
      "metadata": {
        "id": "J5uADSiM0rHd"
      },
      "source": [
        "# **Fundamental concepts of tensors**"
      ]
    },
    {
      "cell_type": "code",
      "metadata": {
        "colab": {
          "base_uri": "https://localhost:8080/"
        },
        "id": "RWaKyaF30jU5",
        "outputId": "befd46e9-6b3c-4028-8dda-0dcb9024ee07"
      },
      "source": [
        "import tensorflow as tf\n",
        "\n",
        "import numpy as np\n",
        "print(tf.__version__)"
      ],
      "execution_count": 22,
      "outputs": [
        {
          "output_type": "stream",
          "text": [
            "2.5.0\n"
          ],
          "name": "stdout"
        }
      ]
    },
    {
      "cell_type": "code",
      "metadata": {
        "colab": {
          "base_uri": "https://localhost:8080/"
        },
        "id": "wUIn_WyO1LQi",
        "outputId": "692b0713-bf96-4fc6-9533-1007dc8373f9"
      },
      "source": [
        "# creating tensors with tf.constant()\n",
        "scalar = tf.constant(7)\n",
        "scalar"
      ],
      "execution_count": 23,
      "outputs": [
        {
          "output_type": "execute_result",
          "data": {
            "text/plain": [
              "<tf.Tensor: shape=(), dtype=int32, numpy=7>"
            ]
          },
          "metadata": {
            "tags": []
          },
          "execution_count": 23
        }
      ]
    },
    {
      "cell_type": "code",
      "metadata": {
        "colab": {
          "base_uri": "https://localhost:8080/"
        },
        "id": "UM0lCK731lBA",
        "outputId": "6a90a02b-8d0f-4a3e-db70-bb745bab9e8d"
      },
      "source": [
        "#Checking the no of dimensions of a tensor\n",
        "scalar.ndim"
      ],
      "execution_count": 24,
      "outputs": [
        {
          "output_type": "execute_result",
          "data": {
            "text/plain": [
              "0"
            ]
          },
          "metadata": {
            "tags": []
          },
          "execution_count": 24
        }
      ]
    },
    {
      "cell_type": "code",
      "metadata": {
        "colab": {
          "base_uri": "https://localhost:8080/"
        },
        "id": "HqTV2xLQ16LO",
        "outputId": "6879c7a8-dd8b-4e7b-e425-f2fe5f035294"
      },
      "source": [
        "vector = tf.constant([10,10])\n",
        "vector"
      ],
      "execution_count": 25,
      "outputs": [
        {
          "output_type": "execute_result",
          "data": {
            "text/plain": [
              "<tf.Tensor: shape=(2,), dtype=int32, numpy=array([10, 10], dtype=int32)>"
            ]
          },
          "metadata": {
            "tags": []
          },
          "execution_count": 25
        }
      ]
    },
    {
      "cell_type": "code",
      "metadata": {
        "colab": {
          "base_uri": "https://localhost:8080/"
        },
        "id": "YEiy9hay2CFi",
        "outputId": "451a0e43-22b3-48ff-ca23-ed6c9d6d9476"
      },
      "source": [
        "vector.ndim"
      ],
      "execution_count": 26,
      "outputs": [
        {
          "output_type": "execute_result",
          "data": {
            "text/plain": [
              "1"
            ]
          },
          "metadata": {
            "tags": []
          },
          "execution_count": 26
        }
      ]
    },
    {
      "cell_type": "code",
      "metadata": {
        "colab": {
          "base_uri": "https://localhost:8080/"
        },
        "id": "tKQRNuRD2GE_",
        "outputId": "55c5afa6-c36b-4933-8b80-5b535d5ec276"
      },
      "source": [
        "matrix = tf.constant([[24,48],[18,7]])\n",
        "print(matrix)\n",
        "print(matrix.ndim)"
      ],
      "execution_count": 27,
      "outputs": [
        {
          "output_type": "stream",
          "text": [
            "tf.Tensor(\n",
            "[[24 48]\n",
            " [18  7]], shape=(2, 2), dtype=int32)\n",
            "2\n"
          ],
          "name": "stdout"
        }
      ]
    },
    {
      "cell_type": "code",
      "metadata": {
        "colab": {
          "base_uri": "https://localhost:8080/"
        },
        "id": "XfSi7RV72eI2",
        "outputId": "17337087-da97-4ea4-dca8-0c7f9ef896a5"
      },
      "source": [
        "#Creating another matrix\n",
        "another_matrix = tf.constant([[10.,8.],\n",
        "                             [1.,9.],\n",
        "                             [10.,24.]],dtype=tf.float64)\n",
        "print(another_matrix)\n",
        "print(another_matrix.ndim)"
      ],
      "execution_count": 28,
      "outputs": [
        {
          "output_type": "stream",
          "text": [
            "tf.Tensor(\n",
            "[[10.  8.]\n",
            " [ 1.  9.]\n",
            " [10. 24.]], shape=(3, 2), dtype=float64)\n",
            "2\n"
          ],
          "name": "stdout"
        }
      ]
    },
    {
      "cell_type": "markdown",
      "metadata": {
        "id": "PpWOVqfV4mlE"
      },
      "source": [
        "What we've created so far:\n",
        "Scalar : a single number\n",
        "vector : number with direction\n",
        "matrix: a 2d array of numbers\n",
        "Tensors : An n dim array of numbers .\n"
      ]
    },
    {
      "cell_type": "markdown",
      "metadata": {
        "id": "s55Y4nVM3CGt"
      },
      "source": [
        "### Creating tensors with 'tf.Variable'"
      ]
    },
    {
      "cell_type": "code",
      "metadata": {
        "colab": {
          "base_uri": "https://localhost:8080/"
        },
        "id": "B8yFRNxV5J-Q",
        "outputId": "e04c0678-249a-49ae-edb7-9f54b68bf402"
      },
      "source": [
        "changeable_tensor = tf.Variable([10,7])\n",
        "unchangable_tensor = tf.constant([10,7])\n",
        "changeable_tensor,unchangable_tensor"
      ],
      "execution_count": 29,
      "outputs": [
        {
          "output_type": "execute_result",
          "data": {
            "text/plain": [
              "(<tf.Variable 'Variable:0' shape=(2,) dtype=int32, numpy=array([10,  7], dtype=int32)>,\n",
              " <tf.Tensor: shape=(2,), dtype=int32, numpy=array([10,  7], dtype=int32)>)"
            ]
          },
          "metadata": {
            "tags": []
          },
          "execution_count": 29
        }
      ]
    },
    {
      "cell_type": "code",
      "metadata": {
        "colab": {
          "base_uri": "https://localhost:8080/"
        },
        "id": "qSs-hMTG5w4f",
        "outputId": "6eb25a9b-71ab-4fb6-934c-b55e93b72bdf"
      },
      "source": [
        "changeable_tensor[0].assign(18)\n",
        "changeable_tensor"
      ],
      "execution_count": 30,
      "outputs": [
        {
          "output_type": "execute_result",
          "data": {
            "text/plain": [
              "<tf.Variable 'Variable:0' shape=(2,) dtype=int32, numpy=array([18,  7], dtype=int32)>"
            ]
          },
          "metadata": {
            "tags": []
          },
          "execution_count": 30
        }
      ]
    },
    {
      "cell_type": "code",
      "metadata": {
        "id": "H8giuTqX6CEx"
      },
      "source": [
        "# Creating Random tensors : Playback = 1:22:42"
      ],
      "execution_count": 31,
      "outputs": []
    },
    {
      "cell_type": "code",
      "metadata": {
        "id": "o7uEV6HTl4bu",
        "colab": {
          "base_uri": "https://localhost:8080/"
        },
        "outputId": "dc23821e-86e0-441e-dc78-40d814739b13"
      },
      "source": [
        "random_1 = tf.random.Generator.from_seed(36)\n",
        "random_1 = random_1.normal(shape=(2,4))\n",
        "\n",
        "random_2 = tf.random.Generator.from_seed(36)\n",
        "random_2 = random_2.normal(shape = (2,4))\n",
        "\n",
        "random_1,random_2, random_1 == random_2\n"
      ],
      "execution_count": 32,
      "outputs": [
        {
          "output_type": "execute_result",
          "data": {
            "text/plain": [
              "(<tf.Tensor: shape=(2, 4), dtype=float32, numpy=\n",
              " array([[-0.645002  ,  0.18022095, -0.14656258,  0.34374258],\n",
              "        [ 0.41367555,  0.17573498, -1.0871261 ,  0.45905176]],\n",
              "       dtype=float32)>, <tf.Tensor: shape=(2, 4), dtype=float32, numpy=\n",
              " array([[-0.645002  ,  0.18022095, -0.14656258,  0.34374258],\n",
              "        [ 0.41367555,  0.17573498, -1.0871261 ,  0.45905176]],\n",
              "       dtype=float32)>, <tf.Tensor: shape=(2, 4), dtype=bool, numpy=\n",
              " array([[ True,  True,  True,  True],\n",
              "        [ True,  True,  True,  True]])>)"
            ]
          },
          "metadata": {
            "tags": []
          },
          "execution_count": 32
        }
      ]
    },
    {
      "cell_type": "code",
      "metadata": {
        "id": "zXVOVC5anGy-"
      },
      "source": [
        "# Shuffling the order of tensors (valuable for shuffling the data)"
      ],
      "execution_count": 33,
      "outputs": []
    },
    {
      "cell_type": "code",
      "metadata": {
        "id": "AyqAO2wJonpE",
        "colab": {
          "base_uri": "https://localhost:8080/"
        },
        "outputId": "a2715123-1b1b-4cc2-e027-737b8a6336cc"
      },
      "source": [
        "not_shuffled = tf.constant([[10,7],\n",
        "                            [24,7],\n",
        "                           [18,45]],dtype=tf.int64)\n",
        "print(not_shuffled.ndim)\n",
        "not_shuffled"
      ],
      "execution_count": 34,
      "outputs": [
        {
          "output_type": "stream",
          "text": [
            "2\n"
          ],
          "name": "stdout"
        },
        {
          "output_type": "execute_result",
          "data": {
            "text/plain": [
              "<tf.Tensor: shape=(3, 2), dtype=int64, numpy=\n",
              "array([[10,  7],\n",
              "       [24,  7],\n",
              "       [18, 45]])>"
            ]
          },
          "metadata": {
            "tags": []
          },
          "execution_count": 34
        }
      ]
    },
    {
      "cell_type": "code",
      "metadata": {
        "id": "psbEPZ8DpN0-",
        "colab": {
          "base_uri": "https://localhost:8080/"
        },
        "outputId": "6b8cb497-4c17-4048-f71f-2ebab46aa323"
      },
      "source": [
        "tf.random.shuffle(not_shuffled)"
      ],
      "execution_count": 35,
      "outputs": [
        {
          "output_type": "execute_result",
          "data": {
            "text/plain": [
              "<tf.Tensor: shape=(3, 2), dtype=int64, numpy=\n",
              "array([[10,  7],\n",
              "       [18, 45],\n",
              "       [24,  7]])>"
            ]
          },
          "metadata": {
            "tags": []
          },
          "execution_count": 35
        }
      ]
    },
    {
      "cell_type": "code",
      "metadata": {
        "id": "75d8j3KPpLTA",
        "colab": {
          "base_uri": "https://localhost:8080/"
        },
        "outputId": "5b0091ef-eaa6-4eef-d52c-f413ee4e6f95"
      },
      "source": [
        "tf.ones([4,8], dtype=tf.int32)"
      ],
      "execution_count": 36,
      "outputs": [
        {
          "output_type": "execute_result",
          "data": {
            "text/plain": [
              "<tf.Tensor: shape=(4, 8), dtype=int32, numpy=\n",
              "array([[1, 1, 1, 1, 1, 1, 1, 1],\n",
              "       [1, 1, 1, 1, 1, 1, 1, 1],\n",
              "       [1, 1, 1, 1, 1, 1, 1, 1],\n",
              "       [1, 1, 1, 1, 1, 1, 1, 1]], dtype=int32)>"
            ]
          },
          "metadata": {
            "tags": []
          },
          "execution_count": 36
        }
      ]
    },
    {
      "cell_type": "code",
      "metadata": {
        "id": "Fprnmny_6Z88",
        "colab": {
          "base_uri": "https://localhost:8080/"
        },
        "outputId": "44edaeef-bda0-4d98-f6d1-beb42b45b78c"
      },
      "source": [
        "#Converting numpy arrays into tensors\n",
        "\n",
        "numpy_array = np.random.randint(10,50,20)\n",
        "numpy_array\n"
      ],
      "execution_count": 37,
      "outputs": [
        {
          "output_type": "execute_result",
          "data": {
            "text/plain": [
              "array([21, 48, 29, 23, 31, 15, 19, 27, 14, 29, 45, 30, 25, 33, 23, 10, 16,\n",
              "       46, 49, 40])"
            ]
          },
          "metadata": {
            "tags": []
          },
          "execution_count": 37
        }
      ]
    },
    {
      "cell_type": "code",
      "metadata": {
        "id": "uXFiIIdz544x",
        "colab": {
          "base_uri": "https://localhost:8080/"
        },
        "outputId": "3e2290bc-36a5-4cb4-b7b7-b540bd4b6481"
      },
      "source": [
        "A = tf.constant(numpy_array,shape =(5,4))\n",
        "A"
      ],
      "execution_count": 38,
      "outputs": [
        {
          "output_type": "execute_result",
          "data": {
            "text/plain": [
              "<tf.Tensor: shape=(5, 4), dtype=int64, numpy=\n",
              "array([[21, 48, 29, 23],\n",
              "       [31, 15, 19, 27],\n",
              "       [14, 29, 45, 30],\n",
              "       [25, 33, 23, 10],\n",
              "       [16, 46, 49, 40]])>"
            ]
          },
          "metadata": {
            "tags": []
          },
          "execution_count": 38
        }
      ]
    },
    {
      "cell_type": "code",
      "metadata": {
        "id": "p8vtWhBw5v0p"
      },
      "source": [
        ""
      ],
      "execution_count": 39,
      "outputs": []
    },
    {
      "cell_type": "markdown",
      "metadata": {
        "id": "bbx5sJDot6HA"
      },
      "source": [
        "\n",
        "### Getting information from tensors\n",
        "1. Shape\n",
        "2. Rank\n",
        "3. Axis or dimension\n",
        "3. Size"
      ]
    },
    {
      "cell_type": "code",
      "metadata": {
        "id": "sf2zAL5S5tFd"
      },
      "source": [
        "rank_4_tensor = tf.ones(shape = (2,6,2,6))\n",
        "rank_4_tensor"
      ],
      "execution_count": null,
      "outputs": []
    },
    {
      "cell_type": "code",
      "metadata": {
        "id": "Pk5yyvcN5Eyf"
      },
      "source": [
        "rank_4_tensor[0][2]"
      ],
      "execution_count": null,
      "outputs": []
    },
    {
      "cell_type": "code",
      "metadata": {
        "id": "oikBvs2Q2TVr"
      },
      "source": [
        "print(\"Total number of elements in our tensor:\", tf.size(rank_4_tensor).numpy())"
      ],
      "execution_count": null,
      "outputs": []
    },
    {
      "cell_type": "code",
      "metadata": {
        "id": "vRM9SlbD14sj",
        "colab": {
          "base_uri": "https://localhost:8080/"
        },
        "outputId": "6106c2fb-1c7f-4d32-ed81-10a11c0df3c5"
      },
      "source": [
        "rank_4_tensor[:1,:2,:2,:2]\n",
        "rank_4_tensor"
      ],
      "execution_count": 41,
      "outputs": [
        {
          "output_type": "execute_result",
          "data": {
            "text/plain": [
              "<tf.Tensor: shape=(2, 6, 2, 6), dtype=float32, numpy=\n",
              "array([[[[1., 1., 1., 1., 1., 1.],\n",
              "         [1., 1., 1., 1., 1., 1.]],\n",
              "\n",
              "        [[1., 1., 1., 1., 1., 1.],\n",
              "         [1., 1., 1., 1., 1., 1.]],\n",
              "\n",
              "        [[1., 1., 1., 1., 1., 1.],\n",
              "         [1., 1., 1., 1., 1., 1.]],\n",
              "\n",
              "        [[1., 1., 1., 1., 1., 1.],\n",
              "         [1., 1., 1., 1., 1., 1.]],\n",
              "\n",
              "        [[1., 1., 1., 1., 1., 1.],\n",
              "         [1., 1., 1., 1., 1., 1.]],\n",
              "\n",
              "        [[1., 1., 1., 1., 1., 1.],\n",
              "         [1., 1., 1., 1., 1., 1.]]],\n",
              "\n",
              "\n",
              "       [[[1., 1., 1., 1., 1., 1.],\n",
              "         [1., 1., 1., 1., 1., 1.]],\n",
              "\n",
              "        [[1., 1., 1., 1., 1., 1.],\n",
              "         [1., 1., 1., 1., 1., 1.]],\n",
              "\n",
              "        [[1., 1., 1., 1., 1., 1.],\n",
              "         [1., 1., 1., 1., 1., 1.]],\n",
              "\n",
              "        [[1., 1., 1., 1., 1., 1.],\n",
              "         [1., 1., 1., 1., 1., 1.]],\n",
              "\n",
              "        [[1., 1., 1., 1., 1., 1.],\n",
              "         [1., 1., 1., 1., 1., 1.]],\n",
              "\n",
              "        [[1., 1., 1., 1., 1., 1.],\n",
              "         [1., 1., 1., 1., 1., 1.]]]], dtype=float32)>"
            ]
          },
          "metadata": {
            "tags": []
          },
          "execution_count": 41
        }
      ]
    },
    {
      "cell_type": "code",
      "metadata": {
        "id": "GJ09cnDD04MF"
      },
      "source": [
        "import numpy as np"
      ],
      "execution_count": 42,
      "outputs": []
    },
    {
      "cell_type": "code",
      "metadata": {
        "colab": {
          "base_uri": "https://localhost:8080/"
        },
        "id": "LLcSwdwE1T5X",
        "outputId": "ee161983-06c4-468a-9d53-62b1f1de7ddc"
      },
      "source": [
        "basic_numpy = np.random.randint(1,100,24)\n",
        "basic_numpy"
      ],
      "execution_count": 44,
      "outputs": [
        {
          "output_type": "execute_result",
          "data": {
            "text/plain": [
              "array([33, 28, 25, 38, 96, 14, 79, 58, 20, 54, 45, 39, 94,  8, 45, 85, 17,\n",
              "       24, 79, 72, 55, 45, 90, 21])"
            ]
          },
          "metadata": {
            "tags": []
          },
          "execution_count": 44
        }
      ]
    },
    {
      "cell_type": "code",
      "metadata": {
        "colab": {
          "base_uri": "https://localhost:8080/"
        },
        "id": "uZhNIoh71dMZ",
        "outputId": "e728afa1-6961-4302-d462-0cabc36cb602"
      },
      "source": [
        "reshaped_numpy = basic_numpy.reshape(3,2,4)\n",
        "reshaped_numpy"
      ],
      "execution_count": 49,
      "outputs": [
        {
          "output_type": "execute_result",
          "data": {
            "text/plain": [
              "array([[[33, 28, 25, 38],\n",
              "        [96, 14, 79, 58]],\n",
              "\n",
              "       [[20, 54, 45, 39],\n",
              "        [94,  8, 45, 85]],\n",
              "\n",
              "       [[17, 24, 79, 72],\n",
              "        [55, 45, 90, 21]]])"
            ]
          },
          "metadata": {
            "tags": []
          },
          "execution_count": 49
        }
      ]
    },
    {
      "cell_type": "code",
      "metadata": {
        "id": "-y8_OgZP1Hd6",
        "colab": {
          "base_uri": "https://localhost:8080/"
        },
        "outputId": "49851c2f-5583-4d85-a52b-46af0c64eb4c"
      },
      "source": [
        "print(reshaped_numpy.base is basic_numpy)"
      ],
      "execution_count": 52,
      "outputs": [
        {
          "output_type": "stream",
          "text": [
            "True\n"
          ],
          "name": "stdout"
        }
      ]
    },
    {
      "cell_type": "code",
      "metadata": {
        "colab": {
          "base_uri": "https://localhost:8080/"
        },
        "id": "-nZsO8ZR26V2",
        "outputId": "a0b38a7f-9850-4136-df80-1ed0c7c60a0b"
      },
      "source": [
        "new_nump = reshaped_numpy[0][0:2]\n",
        "print(new_nump[0:2][1:])\n",
        "print(new_nump[1][:2])"
      ],
      "execution_count": 73,
      "outputs": [
        {
          "output_type": "stream",
          "text": [
            "[[96 14 79 58]]\n",
            "[96 14]\n"
          ],
          "name": "stdout"
        }
      ]
    },
    {
      "cell_type": "code",
      "metadata": {
        "colab": {
          "base_uri": "https://localhost:8080/"
        },
        "id": "ifgG-JzT4goB",
        "outputId": "7345b32c-ceee-4dae-e86c-6656b18798c5"
      },
      "source": [
        "reshaped_numpy[0:2,0:1,1]"
      ],
      "execution_count": 89,
      "outputs": [
        {
          "output_type": "execute_result",
          "data": {
            "text/plain": [
              "array([[28],\n",
              "       [54]])"
            ]
          },
          "metadata": {
            "tags": []
          },
          "execution_count": 89
        }
      ]
    },
    {
      "cell_type": "code",
      "metadata": {
        "colab": {
          "base_uri": "https://localhost:8080/"
        },
        "id": "5oiTXJlD59O8",
        "outputId": "6949ea46-8ee9-4e7b-f453-350cdfc4004e"
      },
      "source": [
        "reshaped_numpy[:,:,1:4]"
      ],
      "execution_count": 93,
      "outputs": [
        {
          "output_type": "execute_result",
          "data": {
            "text/plain": [
              "array([[[28, 25, 38],\n",
              "        [14, 79, 58]],\n",
              "\n",
              "       [[54, 45, 39],\n",
              "        [ 8, 45, 85]],\n",
              "\n",
              "       [[24, 79, 72],\n",
              "        [45, 90, 21]]])"
            ]
          },
          "metadata": {
            "tags": []
          },
          "execution_count": 93
        }
      ]
    },
    {
      "cell_type": "code",
      "metadata": {
        "id": "vg85fQS26y8q"
      },
      "source": [
        "# MATRIX MULTIPLICATION"
      ],
      "execution_count": null,
      "outputs": []
    }
  ]
}